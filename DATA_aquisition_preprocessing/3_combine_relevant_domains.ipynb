{
  "metadata": {
    "kernelspec": {
      "name": "python3",
      "display_name": "Python 3 (ipykernel)",
      "language": "python"
    },
    "language_info": {
      "name": "python",
      "version": "3.12.4",
      "mimetype": "text/x-python",
      "codemirror_mode": {
        "name": "ipython",
        "version": 3
      },
      "pygments_lexer": "ipython3",
      "nbconvert_exporter": "python",
      "file_extension": ".py"
    }
  },
  "nbformat_minor": 5,
  "nbformat": 4,
  "cells": [
    {
      "id": "c8a8f7af-4d69-4cce-a492-23a5186cb5c5",
      "cell_type": "code",
      "source": "import boto3\nfrom io import BytesIO\nimport gzip\nimport tempfile",
      "metadata": {
        "trusted": true
      },
      "outputs": [],
      "execution_count": 2
    },
    {
      "id": "0a3a982e-1a14-4205-aa41-c54a4150d2dd",
      "cell_type": "code",
      "source": "#init spark\n# Import the findspark module \nimport findspark\nimport os\n# Initialize via the full spark path\nfindspark.init(\"/opt/apache-spark\")\n# Import the SparkSession and SQLContext modules\nfrom pyspark.sql import SparkSession\nfrom pyspark.sql import SQLContext\n\n# Build the SparkSession\nspark = SparkSession.builder \\\n   .master(\"local[12]\") \\\n   .appName(\"CommonCrawl\") \\\n   .config(\"spark.executor.memory\", \"1gb\") \\\n   .getOrCreate()\nspark.conf.set(\"spark.sql.debug.maxToStringFields\", 1000)\n# Main entry point for Spark functionality. A SparkContext represents the\n# connection to a Spark cluster, and can be used to create :class:`RDD` and\n# broadcast variables on that cluster.      \nsc = spark.sparkContext",
      "metadata": {
        "trusted": true
      },
      "outputs": [
        {
          "name": "stderr",
          "text": "Setting default log level to \"WARN\".\nTo adjust logging level use sc.setLogLevel(newLevel). For SparkR, use setLogLevel(newLevel).\n24/08/08 09:48:00 WARN NativeCodeLoader: Unable to load native-hadoop library for your platform... using builtin-java classes where applicable\n24/08/08 09:48:00 WARN Utils: Service 'SparkUI' could not bind on port 4040. Attempting port 4041.\n",
          "output_type": "stream"
        }
      ],
      "execution_count": 3
    },
    {
      "id": "b2e96939-ee45-4287-ae67-5f547f785692",
      "cell_type": "code",
      "source": "# Path to the folder containing the CSV files\ncsv_folder_path = \"data/only_relevant_domains.csv\"\n\n# Read all CSV files in the folder\ndf = spark.read.option(\"header\", \"true\").csv(os.path.join(csv_folder_path, \"*.csv\"))\n\n# Show the combined DataFrame\ndf.show()\n\n# Optionally, save the combined DataFrame to a new CSV file\noutput_path = \"combined_domains_cc\"\ndf.write.option(\"header\", \"true\").csv(output_path)",
      "metadata": {
        "trusted": true
      },
      "outputs": [
        {
          "name": "stdout",
          "text": "+--------------------+--------------------+--------------------+---------+--------------------+------+--------------------+------+--------+--------------------+-------+---------+---+-------------------+----+\n|            MetaData|                Date|                 url|     mime|       mime-detected|status|              digest|length|  offset|            filename|charset|languages|TLD|             Domain|Path|\n+--------------------+--------------------+--------------------+---------+--------------------+------+--------------------+------+--------+--------------------+-------+---------+---+-------------------+----+\n|com,microsoft,azu...|2024-07-12T12:06:...|https://azure.mic...|text/html|           text/html|   301|FE7EK7XPOJDFPOP6P...|  1350| 2875292|crawl-data/CC-MAI...|   null|     null|com|azure.microsoft.com|   /|\n|com,microsoft,azu...|2024-07-12T16:43:...|https://azure.mic...|text/html|           text/html|   301|FE7EK7XPOJDFPOP6P...|  1345| 4101179|crawl-data/CC-MAI...|   null|     null|com|azure.microsoft.com|   /|\n|com,microsoft,azu...|2024-07-13T02:30:...|https://azure.mic...|text/html|           text/html|   301|FE7EK7XPOJDFPOP6P...|  1346| 3312057|crawl-data/CC-MAI...|   null|     null|com|azure.microsoft.com|   /|\n|com,microsoft,azu...|2024-07-13T07:04:...|https://azure.mic...|text/html|           text/html|   301|FE7EK7XPOJDFPOP6P...|  1334| 3226925|crawl-data/CC-MAI...|   null|     null|com|azure.microsoft.com|   /|\n|com,microsoft,azu...|2024-07-13T19:22:...|https://azure.mic...|text/html|           text/html|   301|FE7EK7XPOJDFPOP6P...|  1350| 3670850|crawl-data/CC-MAI...|   null|     null|com|azure.microsoft.com|   /|\n|com,microsoft,azu...|2024-07-14T03:53:...|https://azure.mic...|text/html|           text/html|   301|FE7EK7XPOJDFPOP6P...|  1350|  577425|crawl-data/CC-MAI...|   null|     null|com|azure.microsoft.com|   /|\n|com,microsoft,azu...|2024-07-15T00:42:...|https://azure.mic...|text/html|           text/html|   301|FE7EK7XPOJDFPOP6P...|  1338| 3040273|crawl-data/CC-MAI...|   null|     null|com|azure.microsoft.com|   /|\n|com,microsoft,azu...|2024-07-15T04:37:...|https://azure.mic...|text/html|           text/html|   301|FE7EK7XPOJDFPOP6P...|  1346|  631905|crawl-data/CC-MAI...|   null|     null|com|azure.microsoft.com|   /|\n|com,microsoft,azu...|2024-07-15T06:14:...|https://www.azure...|      unk|application/octet...|   301|3I42H3S6NNFQ2MSVX...|   573|21709273|crawl-data/CC-MAI...|   null|     null|com|azure.microsoft.com|   /|\n|com,microsoft,azu...|2024-07-15T08:49:...|https://azure.mic...|text/html|           text/html|   301|FE7EK7XPOJDFPOP6P...|  1339| 3356294|crawl-data/CC-MAI...|   null|     null|com|azure.microsoft.com|   /|\n|com,microsoft,azu...|2024-07-15T11:15:...|https://azure.mic...|text/html|           text/html|   301|FE7EK7XPOJDFPOP6P...|  1337|  687226|crawl-data/CC-MAI...|   null|     null|com|azure.microsoft.com|   /|\n|com,microsoft,azu...|2024-07-15T12:30:...|https://azure.mic...|text/html|           text/html|   301|FE7EK7XPOJDFPOP6P...|  1339| 3696281|crawl-data/CC-MAI...|   null|     null|com|azure.microsoft.com|   /|\n|com,microsoft,azu...|2024-07-16T02:46:...|https://azure.mic...|text/html|           text/html|   301|FE7EK7XPOJDFPOP6P...|  1336| 3647933|crawl-data/CC-MAI...|   null|     null|com|azure.microsoft.com|   /|\n|com,microsoft,azu...|2024-07-16T08:59:...|https://azure.mic...|text/html|           text/html|   301|FE7EK7XPOJDFPOP6P...|  1341| 3517664|crawl-data/CC-MAI...|   null|     null|com|azure.microsoft.com|   /|\n|com,microsoft,azu...|2024-07-18T15:28:...|https://azure.mic...|text/html|           text/html|   301|FE7EK7XPOJDFPOP6P...|  1338| 3642941|crawl-data/CC-MAI...|   null|     null|com|azure.microsoft.com|   /|\n|com,microsoft,azu...|2024-07-18T21:28:...|https://azure.mic...|text/html|           text/html|   301|FE7EK7XPOJDFPOP6P...|  1343| 3826463|crawl-data/CC-MAI...|   null|     null|com|azure.microsoft.com|   /|\n|com,microsoft,azu...|2024-07-19T00:26:...|https://azure.mic...|text/html|           text/html|   301|FE7EK7XPOJDFPOP6P...|  1344| 3994423|crawl-data/CC-MAI...|   null|     null|com|azure.microsoft.com|   /|\n|com,microsoft,azu...|2024-07-19T02:08:...|https://azure.mic...|text/html|           text/html|   301|FE7EK7XPOJDFPOP6P...|  1343| 4729645|crawl-data/CC-MAI...|   null|     null|com|azure.microsoft.com|   /|\n|com,microsoft,azu...|2024-07-19T12:44:...|https://azure.mic...|text/html|           text/html|   301|FE7EK7XPOJDFPOP6P...|  1351| 3902931|crawl-data/CC-MAI...|   null|     null|com|azure.microsoft.com|   /|\n|com,microsoft,azu...|2024-07-19T16:02:...|https://azure.mic...|text/html|           text/html|   301|FE7EK7XPOJDFPOP6P...|  1346| 3914116|crawl-data/CC-MAI...|   null|     null|com|azure.microsoft.com|   /|\n+--------------------+--------------------+--------------------+---------+--------------------+------+--------------------+------+--------+--------------------+-------+---------+---+-------------------+----+\nonly showing top 20 rows\n\n",
          "output_type": "stream"
        },
        {
          "name": "stderr",
          "text": "                                                                                \r",
          "output_type": "stream"
        }
      ],
      "execution_count": 4
    }
  ]
}